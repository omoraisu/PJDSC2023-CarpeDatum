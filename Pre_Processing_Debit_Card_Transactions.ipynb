{
 "cells": [
  {
   "cell_type": "markdown",
   "id": "61dd8c6a",
   "metadata": {},
   "source": [
    "# Pre-Process Debit Card Transaction Data "
   ]
  },
  {
   "cell_type": "code",
   "execution_count": 2,
   "id": "2e23a506",
   "metadata": {},
   "outputs": [],
   "source": [
    "import pandas as pd\n",
    "import numpy as np\n",
    "import seaborn as sns\n",
    "import matplotlib.pyplot as plt"
   ]
  },
  {
   "cell_type": "code",
   "execution_count": 3,
   "id": "9fa02712",
   "metadata": {},
   "outputs": [],
   "source": [
    "df = pd.read_excel('C:\\\\Users\\\\biboy\\\\Desktop\\\\PJDSC\\\\dataset\\\\DEBIT CARD TXNS_PJDSC.xlsx')\n"
   ]
  },
  {
   "cell_type": "code",
   "execution_count": 4,
   "id": "5a25fede",
   "metadata": {},
   "outputs": [],
   "source": [
    "df.to_csv('CREDIT CARD TXNS_PJDSC')"
   ]
  },
  {
   "cell_type": "code",
   "execution_count": 6,
   "id": "2d2c47c7",
   "metadata": {},
   "outputs": [
    {
     "data": {
      "text/html": [
       "<div>\n",
       "<style scoped>\n",
       "    .dataframe tbody tr th:only-of-type {\n",
       "        vertical-align: middle;\n",
       "    }\n",
       "\n",
       "    .dataframe tbody tr th {\n",
       "        vertical-align: top;\n",
       "    }\n",
       "\n",
       "    .dataframe thead th {\n",
       "        text-align: right;\n",
       "    }\n",
       "</style>\n",
       "<table border=\"1\" class=\"dataframe\">\n",
       "  <thead>\n",
       "    <tr style=\"text-align: right;\">\n",
       "      <th></th>\n",
       "      <th>CUST_NUM</th>\n",
       "      <th>CHANNEL</th>\n",
       "      <th>DATE</th>\n",
       "      <th>TIME</th>\n",
       "      <th>AMOUNT</th>\n",
       "    </tr>\n",
       "  </thead>\n",
       "  <tbody>\n",
       "    <tr>\n",
       "      <th>0</th>\n",
       "      <td>3659.137057</td>\n",
       "      <td>POS</td>\n",
       "      <td>2023-04-01</td>\n",
       "      <td>39958</td>\n",
       "      <td>30001.039678</td>\n",
       "    </tr>\n",
       "    <tr>\n",
       "      <th>1</th>\n",
       "      <td>3659.137057</td>\n",
       "      <td>POS</td>\n",
       "      <td>2023-04-04</td>\n",
       "      <td>51349</td>\n",
       "      <td>20001.662634</td>\n",
       "    </tr>\n",
       "    <tr>\n",
       "      <th>2</th>\n",
       "      <td>3659.137057</td>\n",
       "      <td>POS</td>\n",
       "      <td>2023-04-05</td>\n",
       "      <td>42803</td>\n",
       "      <td>22001.514584</td>\n",
       "    </tr>\n",
       "    <tr>\n",
       "      <th>3</th>\n",
       "      <td>3659.137057</td>\n",
       "      <td>POS</td>\n",
       "      <td>2023-04-06</td>\n",
       "      <td>51455</td>\n",
       "      <td>30001.529392</td>\n",
       "    </tr>\n",
       "    <tr>\n",
       "      <th>4</th>\n",
       "      <td>3659.137057</td>\n",
       "      <td>POS</td>\n",
       "      <td>2023-04-11</td>\n",
       "      <td>62752</td>\n",
       "      <td>22001.092602</td>\n",
       "    </tr>\n",
       "  </tbody>\n",
       "</table>\n",
       "</div>"
      ],
      "text/plain": [
       "      CUST_NUM CHANNEL       DATE   TIME        AMOUNT\n",
       "0  3659.137057     POS 2023-04-01  39958  30001.039678\n",
       "1  3659.137057     POS 2023-04-04  51349  20001.662634\n",
       "2  3659.137057     POS 2023-04-05  42803  22001.514584\n",
       "3  3659.137057     POS 2023-04-06  51455  30001.529392\n",
       "4  3659.137057     POS 2023-04-11  62752  22001.092602"
      ]
     },
     "execution_count": 6,
     "metadata": {},
     "output_type": "execute_result"
    }
   ],
   "source": [
    "df.head()"
   ]
  },
  {
   "cell_type": "code",
   "execution_count": 7,
   "id": "8b5b1a32",
   "metadata": {},
   "outputs": [
    {
     "data": {
      "text/html": [
       "<div>\n",
       "<style scoped>\n",
       "    .dataframe tbody tr th:only-of-type {\n",
       "        vertical-align: middle;\n",
       "    }\n",
       "\n",
       "    .dataframe tbody tr th {\n",
       "        vertical-align: top;\n",
       "    }\n",
       "\n",
       "    .dataframe thead th {\n",
       "        text-align: right;\n",
       "    }\n",
       "</style>\n",
       "<table border=\"1\" class=\"dataframe\">\n",
       "  <thead>\n",
       "    <tr style=\"text-align: right;\">\n",
       "      <th></th>\n",
       "      <th>CUST_NUM</th>\n",
       "      <th>CHANNEL</th>\n",
       "      <th>DATE</th>\n",
       "      <th>TIME</th>\n",
       "      <th>AMOUNT</th>\n",
       "    </tr>\n",
       "  </thead>\n",
       "  <tbody>\n",
       "    <tr>\n",
       "      <th>369589</th>\n",
       "      <td>8741.051424</td>\n",
       "      <td>POS</td>\n",
       "      <td>2023-06-30</td>\n",
       "      <td>31959</td>\n",
       "      <td>2501.112409</td>\n",
       "    </tr>\n",
       "    <tr>\n",
       "      <th>369590</th>\n",
       "      <td>13227.959858</td>\n",
       "      <td>POS</td>\n",
       "      <td>2023-06-30</td>\n",
       "      <td>31333</td>\n",
       "      <td>1.192864</td>\n",
       "    </tr>\n",
       "    <tr>\n",
       "      <th>369591</th>\n",
       "      <td>13227.959858</td>\n",
       "      <td>POS</td>\n",
       "      <td>2023-06-30</td>\n",
       "      <td>31369</td>\n",
       "      <td>2201.563526</td>\n",
       "    </tr>\n",
       "    <tr>\n",
       "      <th>369592</th>\n",
       "      <td>4291.233389</td>\n",
       "      <td>POS</td>\n",
       "      <td>2023-06-30</td>\n",
       "      <td>54799</td>\n",
       "      <td>701.164580</td>\n",
       "    </tr>\n",
       "    <tr>\n",
       "      <th>369593</th>\n",
       "      <td>5560.304128</td>\n",
       "      <td>POS</td>\n",
       "      <td>2023-06-30</td>\n",
       "      <td>36343</td>\n",
       "      <td>6002.154578</td>\n",
       "    </tr>\n",
       "  </tbody>\n",
       "</table>\n",
       "</div>"
      ],
      "text/plain": [
       "            CUST_NUM CHANNEL       DATE   TIME       AMOUNT\n",
       "369589   8741.051424     POS 2023-06-30  31959  2501.112409\n",
       "369590  13227.959858     POS 2023-06-30  31333     1.192864\n",
       "369591  13227.959858     POS 2023-06-30  31369  2201.563526\n",
       "369592   4291.233389     POS 2023-06-30  54799   701.164580\n",
       "369593   5560.304128     POS 2023-06-30  36343  6002.154578"
      ]
     },
     "execution_count": 7,
     "metadata": {},
     "output_type": "execute_result"
    }
   ],
   "source": [
    "df.tail()"
   ]
  },
  {
   "cell_type": "code",
   "execution_count": 8,
   "id": "6774dd10",
   "metadata": {},
   "outputs": [
    {
     "data": {
      "text/plain": [
       "(369594, 5)"
      ]
     },
     "execution_count": 8,
     "metadata": {},
     "output_type": "execute_result"
    }
   ],
   "source": [
    "df.shape\n"
   ]
  },
  {
   "cell_type": "markdown",
   "id": "060bacd0",
   "metadata": {},
   "source": [
    "Findings: There are 369, 594 rows and 5 columns in total for the Credit Card Transactions"
   ]
  },
  {
   "cell_type": "code",
   "execution_count": 9,
   "id": "9de1c2fe",
   "metadata": {},
   "outputs": [
    {
     "data": {
      "text/plain": [
       "CUST_NUM    0\n",
       "CHANNEL     0\n",
       "DATE        0\n",
       "TIME        0\n",
       "AMOUNT      0\n",
       "dtype: int64"
      ]
     },
     "execution_count": 9,
     "metadata": {},
     "output_type": "execute_result"
    }
   ],
   "source": [
    "df.isna().sum()\n"
   ]
  },
  {
   "cell_type": "markdown",
   "id": "35e97683",
   "metadata": {},
   "source": [
    "Findings: There are no missing values in the data frame."
   ]
  },
  {
   "cell_type": "code",
   "execution_count": 10,
   "id": "dab9fc38",
   "metadata": {},
   "outputs": [
    {
     "name": "stdout",
     "output_type": "stream",
     "text": [
      "<class 'pandas.core.frame.DataFrame'>\n",
      "RangeIndex: 369594 entries, 0 to 369593\n",
      "Data columns (total 5 columns):\n",
      " #   Column    Non-Null Count   Dtype         \n",
      "---  ------    --------------   -----         \n",
      " 0   CUST_NUM  369594 non-null  float64       \n",
      " 1   CHANNEL   369594 non-null  object        \n",
      " 2   DATE      369594 non-null  datetime64[ns]\n",
      " 3   TIME      369594 non-null  int64         \n",
      " 4   AMOUNT    369594 non-null  float64       \n",
      "dtypes: datetime64[ns](1), float64(2), int64(1), object(1)\n",
      "memory usage: 14.1+ MB\n"
     ]
    }
   ],
   "source": [
    "df.info()"
   ]
  },
  {
   "cell_type": "markdown",
   "id": "e6349f73",
   "metadata": {},
   "source": [
    "Findings: Suspicious separation between date and time, should be investigated. "
   ]
  },
  {
   "cell_type": "code",
   "execution_count": 12,
   "id": "575ba82e",
   "metadata": {},
   "outputs": [
    {
     "data": {
      "image/png": "[encoded data removed]",
      "text/plain": [
       "<Figure size 640x480 with 1 Axes>"
      ]
     },
     "metadata": {},
     "output_type": "display_data"
    }
   ],
   "source": [
    "# Box plot visualization for 'AMOUNT' column\n",
    "sns.boxplot(df['AMOUNT'])\n",
    "plt.show()"
   ]
  },
  {
   "cell_type": "code",
   "execution_count": null,
   "id": "6a2fb57e",
   "metadata": {},
   "outputs": [],
   "source": []
  }
 ],
 "metadata": {
  "kernelspec": {
   "display_name": "Python 3 (ipykernel)",
   "language": "python",
   "name": "python3"
  },
  "language_info": {
   "codemirror_mode": {
    "name": "ipython",
    "version": 3
   },
   "file_extension": ".py",
   "mimetype": "text/x-python",
   "name": "python",
   "nbconvert_exporter": "python",
   "pygments_lexer": "ipython3",
   "version": "3.11.4"
  }
 },
 "nbformat": 4,
 "nbformat_minor": 5
}
