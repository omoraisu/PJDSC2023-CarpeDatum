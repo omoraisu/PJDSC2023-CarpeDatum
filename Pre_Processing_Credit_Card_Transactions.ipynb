{
 "cells": [
  {
   "cell_type": "markdown",
   "metadata": {},
   "source": [
    "# Pre-Process Credit Card Transaction Data"
   ]
  },
  {
   "cell_type": "code",
   "execution_count": 20,
   "metadata": {},
   "outputs": [],
   "source": [
    "import pandas as pd\n",
    "import numpy as np\n",
    "import seaborn as sns\n",
    "import matplotlib.pyplot as plt\n"
   ]
  },
  {
   "cell_type": "code",
   "execution_count": 4,
   "metadata": {},
   "outputs": [],
   "source": [
    "df = pd.read_excel('C:\\\\Users\\\\biboy\\\\Desktop\\\\PJDSC\\\\dataset\\\\CREDIT CARD TXNS_PJDSC.xlsx')\n"
   ]
  },
  {
   "cell_type": "code",
   "execution_count": 6,
   "metadata": {},
   "outputs": [],
   "source": [
    "df.to_csv('CREDIT CARD TXNS_PJDSC')"
   ]
  },
  {
   "cell_type": "code",
   "execution_count": 7,
   "metadata": {
    "scrolled": true
   },
   "outputs": [
    {
     "data": {
      "text/html": [
       "<div>\n",
       "<style scoped>\n",
       "    .dataframe tbody tr th:only-of-type {\n",
       "        vertical-align: middle;\n",
       "    }\n",
       "\n",
       "    .dataframe tbody tr th {\n",
       "        vertical-align: top;\n",
       "    }\n",
       "\n",
       "    .dataframe thead th {\n",
       "        text-align: right;\n",
       "    }\n",
       "</style>\n",
       "<table border=\"1\" class=\"dataframe\">\n",
       "  <thead>\n",
       "    <tr style=\"text-align: right;\">\n",
       "      <th></th>\n",
       "      <th>CUST_NUM</th>\n",
       "      <th>MERCH_GROUP</th>\n",
       "      <th>DATE</th>\n",
       "      <th>AMOUNT</th>\n",
       "      <th>CHANNEL</th>\n",
       "      <th>MERCH_NAME</th>\n",
       "      <th>COUNTRY</th>\n",
       "    </tr>\n",
       "  </thead>\n",
       "  <tbody>\n",
       "    <tr>\n",
       "      <th>0</th>\n",
       "      <td>3016.966026</td>\n",
       "      <td>Retail Outlet Services</td>\n",
       "      <td>2023-04-01</td>\n",
       "      <td>3211.528727</td>\n",
       "      <td>POS-RETAIL PURCHASE</td>\n",
       "      <td>MERCHANT 1</td>\n",
       "      <td>PH</td>\n",
       "    </tr>\n",
       "    <tr>\n",
       "      <th>1</th>\n",
       "      <td>3016.966026</td>\n",
       "      <td>Clothing Stores</td>\n",
       "      <td>2023-04-01</td>\n",
       "      <td>3982.218215</td>\n",
       "      <td>POS-RETAIL PURCHASE</td>\n",
       "      <td>MERCHANT 2</td>\n",
       "      <td>PH</td>\n",
       "    </tr>\n",
       "    <tr>\n",
       "      <th>2</th>\n",
       "      <td>3016.966026</td>\n",
       "      <td>Miscellaneous Stores</td>\n",
       "      <td>2023-04-18</td>\n",
       "      <td>872.539734</td>\n",
       "      <td>POS-RETAIL PURCHASE</td>\n",
       "      <td>MERCHANT 3</td>\n",
       "      <td>PH</td>\n",
       "    </tr>\n",
       "    <tr>\n",
       "      <th>3</th>\n",
       "      <td>3016.966026</td>\n",
       "      <td>Miscellaneous Stores</td>\n",
       "      <td>2023-04-27</td>\n",
       "      <td>390.082187</td>\n",
       "      <td>POS-RETAIL PURCHASE</td>\n",
       "      <td>MERCHANT 4</td>\n",
       "      <td>PH</td>\n",
       "    </tr>\n",
       "    <tr>\n",
       "      <th>4</th>\n",
       "      <td>3016.966026</td>\n",
       "      <td>Retail Outlet Services</td>\n",
       "      <td>2023-04-29</td>\n",
       "      <td>4956.055464</td>\n",
       "      <td>ONLINE-RETAIL PURCHASE</td>\n",
       "      <td>MERCHANT 5</td>\n",
       "      <td>PH</td>\n",
       "    </tr>\n",
       "  </tbody>\n",
       "</table>\n",
       "</div>"
      ],
      "text/plain": [
       "      CUST_NUM             MERCH_GROUP       DATE       AMOUNT  \\\n",
       "0  3016.966026  Retail Outlet Services 2023-04-01  3211.528727   \n",
       "1  3016.966026         Clothing Stores 2023-04-01  3982.218215   \n",
       "2  3016.966026    Miscellaneous Stores 2023-04-18   872.539734   \n",
       "3  3016.966026    Miscellaneous Stores 2023-04-27   390.082187   \n",
       "4  3016.966026  Retail Outlet Services 2023-04-29  4956.055464   \n",
       "\n",
       "                  CHANNEL  MERCH_NAME COUNTRY  \n",
       "0     POS-RETAIL PURCHASE  MERCHANT 1      PH  \n",
       "1     POS-RETAIL PURCHASE  MERCHANT 2      PH  \n",
       "2     POS-RETAIL PURCHASE  MERCHANT 3      PH  \n",
       "3     POS-RETAIL PURCHASE  MERCHANT 4      PH  \n",
       "4  ONLINE-RETAIL PURCHASE  MERCHANT 5      PH  "
      ]
     },
     "execution_count": 7,
     "metadata": {},
     "output_type": "execute_result"
    }
   ],
   "source": [
    "df.head()"
   ]
  },
  {
   "cell_type": "code",
   "execution_count": 18,
   "metadata": {},
   "outputs": [
    {
     "data": {
      "text/html": [
       "<div>\n",
       "<style scoped>\n",
       "    .dataframe tbody tr th:only-of-type {\n",
       "        vertical-align: middle;\n",
       "    }\n",
       "\n",
       "    .dataframe tbody tr th {\n",
       "        vertical-align: top;\n",
       "    }\n",
       "\n",
       "    .dataframe thead th {\n",
       "        text-align: right;\n",
       "    }\n",
       "</style>\n",
       "<table border=\"1\" class=\"dataframe\">\n",
       "  <thead>\n",
       "    <tr style=\"text-align: right;\">\n",
       "      <th></th>\n",
       "      <th>CUST_NUM</th>\n",
       "      <th>MERCH_GROUP</th>\n",
       "      <th>DATE</th>\n",
       "      <th>AMOUNT</th>\n",
       "      <th>CHANNEL</th>\n",
       "      <th>MERCH_NAME</th>\n",
       "      <th>COUNTRY</th>\n",
       "    </tr>\n",
       "  </thead>\n",
       "  <tbody>\n",
       "    <tr>\n",
       "      <th>33121</th>\n",
       "      <td>11155.492100</td>\n",
       "      <td>NaN</td>\n",
       "      <td>2023-06-30</td>\n",
       "      <td>799.443307</td>\n",
       "      <td>ONLINE-RETAIL PURCHASE</td>\n",
       "      <td>MERCHANT 12</td>\n",
       "      <td>COUNTRY 9</td>\n",
       "    </tr>\n",
       "    <tr>\n",
       "      <th>33122</th>\n",
       "      <td>6159.706324</td>\n",
       "      <td>Miscellaneous Stores</td>\n",
       "      <td>2023-06-30</td>\n",
       "      <td>436.104978</td>\n",
       "      <td>ONLINE-RETAIL PURCHASE</td>\n",
       "      <td>MERCHANT 459</td>\n",
       "      <td>PH</td>\n",
       "    </tr>\n",
       "    <tr>\n",
       "      <th>33123</th>\n",
       "      <td>6159.706324</td>\n",
       "      <td>Miscellaneous Stores</td>\n",
       "      <td>2023-06-30</td>\n",
       "      <td>439.966370</td>\n",
       "      <td>ONLINE-RETAIL PURCHASE</td>\n",
       "      <td>MERCHANT 459</td>\n",
       "      <td>PH</td>\n",
       "    </tr>\n",
       "    <tr>\n",
       "      <th>33124</th>\n",
       "      <td>1154.341371</td>\n",
       "      <td>Miscellaneous Stores</td>\n",
       "      <td>2023-06-30</td>\n",
       "      <td>10069.359649</td>\n",
       "      <td>POS-RETAIL PURCHASE</td>\n",
       "      <td>MERCHANT 154</td>\n",
       "      <td>PH</td>\n",
       "    </tr>\n",
       "    <tr>\n",
       "      <th>33125</th>\n",
       "      <td>8025.697602</td>\n",
       "      <td>Retail Outlet Services</td>\n",
       "      <td>2023-06-30</td>\n",
       "      <td>2015.328394</td>\n",
       "      <td>POS-RETAIL PURCHASE</td>\n",
       "      <td>MERCHANT 68</td>\n",
       "      <td>PH</td>\n",
       "    </tr>\n",
       "  </tbody>\n",
       "</table>\n",
       "</div>"
      ],
      "text/plain": [
       "           CUST_NUM             MERCH_GROUP       DATE        AMOUNT  \\\n",
       "33121  11155.492100                     NaN 2023-06-30    799.443307   \n",
       "33122   6159.706324    Miscellaneous Stores 2023-06-30    436.104978   \n",
       "33123   6159.706324    Miscellaneous Stores 2023-06-30    439.966370   \n",
       "33124   1154.341371    Miscellaneous Stores 2023-06-30  10069.359649   \n",
       "33125   8025.697602  Retail Outlet Services 2023-06-30   2015.328394   \n",
       "\n",
       "                      CHANNEL    MERCH_NAME    COUNTRY  \n",
       "33121  ONLINE-RETAIL PURCHASE   MERCHANT 12  COUNTRY 9  \n",
       "33122  ONLINE-RETAIL PURCHASE  MERCHANT 459         PH  \n",
       "33123  ONLINE-RETAIL PURCHASE  MERCHANT 459         PH  \n",
       "33124     POS-RETAIL PURCHASE  MERCHANT 154         PH  \n",
       "33125     POS-RETAIL PURCHASE   MERCHANT 68         PH  "
      ]
     },
     "execution_count": 18,
     "metadata": {},
     "output_type": "execute_result"
    }
   ],
   "source": [
    "df.tail()"
   ]
  },
  {
   "cell_type": "markdown",
   "metadata": {},
   "source": [
    "Findings: A missing value is apparent in the tail of the MERCH_GROUP column."
   ]
  },
  {
   "cell_type": "code",
   "execution_count": 10,
   "metadata": {},
   "outputs": [
    {
     "data": {
      "text/plain": [
       "(33126, 7)"
      ]
     },
     "execution_count": 10,
     "metadata": {},
     "output_type": "execute_result"
    }
   ],
   "source": [
    "df.shape"
   ]
  },
  {
   "cell_type": "markdown",
   "metadata": {},
   "source": [
    "Findings: There are 33,126 rows and 7 columns in total for the Credit Card Transactions"
   ]
  },
  {
   "cell_type": "code",
   "execution_count": 13,
   "metadata": {},
   "outputs": [
    {
     "data": {
      "text/plain": [
       "CUST_NUM          0\n",
       "MERCH_GROUP    1568\n",
       "DATE              0\n",
       "AMOUNT            0\n",
       "CHANNEL           0\n",
       "MERCH_NAME        0\n",
       "COUNTRY        1249\n",
       "dtype: int64"
      ]
     },
     "execution_count": 13,
     "metadata": {},
     "output_type": "execute_result"
    }
   ],
   "source": [
    "df.isna().sum()"
   ]
  },
  {
   "cell_type": "markdown",
   "metadata": {},
   "source": [
    "Findings: The columns CUST_NUM, DATE, AMOUNT, CHANNEL, and MERCH_NAME are complete, while MERCH_GROUP has 1,568 missing values and COUNTRY has 1,249 missing values.\n"
   ]
  },
  {
   "cell_type": "code",
   "execution_count": 19,
   "metadata": {},
   "outputs": [
    {
     "name": "stdout",
     "output_type": "stream",
     "text": [
      "<class 'pandas.core.frame.DataFrame'>\n",
      "RangeIndex: 33126 entries, 0 to 33125\n",
      "Data columns (total 7 columns):\n",
      " #   Column       Non-Null Count  Dtype         \n",
      "---  ------       --------------  -----         \n",
      " 0   CUST_NUM     33126 non-null  float64       \n",
      " 1   MERCH_GROUP  31558 non-null  object        \n",
      " 2   DATE         33126 non-null  datetime64[ns]\n",
      " 3   AMOUNT       33126 non-null  float64       \n",
      " 4   CHANNEL      33126 non-null  object        \n",
      " 5   MERCH_NAME   33126 non-null  object        \n",
      " 6   COUNTRY      31877 non-null  object        \n",
      "dtypes: datetime64[ns](1), float64(2), object(4)\n",
      "memory usage: 1.8+ MB\n"
     ]
    }
   ],
   "source": [
    "df.info()\n"
   ]
  },
  {
   "cell_type": "markdown",
   "metadata": {},
   "source": [
    "-The dataset seems to be transactional, with details about customer transactions, including the amount, date, merchant, and country.\n",
    "\n",
    "-There are missing values in the MERCH_GROUP and COUNTRY columns that we need to address. \n",
    "\n",
    "-The CUST_NUM being a float might need investigation. If it's supposed to be an identifier, one might consider converting it to an integer or string.\n",
    "\n",
    "-The presence of a DATE column indicates potential for time series analysis or feature extraction related to time (e.g., day of the week, month).\n",
    "\n",
    "-The categorical columns (MERCH_GROUP, CHANNEL, MERCH_NAME, COUNTRY) might need encoding if used for machine learning models. "
   ]
  },
  {
   "cell_type": "code",
   "execution_count": 21,
   "metadata": {},
   "outputs": [
    {
     "data": {
      "image/png": "[encoded data removed]",
      "text/plain": [
       "<Figure size 640x480 with 1 Axes>"
      ]
     },
     "metadata": {},
     "output_type": "display_data"
    }
   ],
   "source": [
    "# Box plot visualization for 'AMOUNT' column\n",
    "sns.boxplot(df['AMOUNT'])\n",
    "plt.show()\n"
   ]
  },
  {
   "cell_type": "markdown",
   "metadata": {},
   "source": [
    "Findings:"
   ]
  },
  {
   "cell_type": "code",
   "execution_count": 22,
   "metadata": {},
   "outputs": [],
   "source": [
    "# IQR method for 'AMOUNT' column\n",
    "Q1 = df['AMOUNT'].quantile(0.25)\n",
    "Q3 = df['AMOUNT'].quantile(0.75)\n",
    "IQR = Q3 - Q1\n",
    "\n",
    "#filter = (df['AMOUNT'] >= Q1 - 1.5 * IQR) & (df['AMOUNT'] <= Q3 + 1.5 * IQR)\n",
    "df = df[filter]"
   ]
  },
  {
   "cell_type": "code",
   "execution_count": null,
   "metadata": {},
   "outputs": [],
   "source": []
  }
 ],
 "metadata": {
  "kernelspec": {
   "display_name": "Python 3 (ipykernel)",
   "language": "python",
   "name": "python3"
  },
  "language_info": {
   "codemirror_mode": {
    "name": "ipython",
    "version": 3
   },
   "file_extension": ".py",
   "mimetype": "text/x-python",
   "name": "python",
   "nbconvert_exporter": "python",
   "pygments_lexer": "ipython3",
   "version": "3.11.4"
  }
 },
 "nbformat": 4,
 "nbformat_minor": 2
}
