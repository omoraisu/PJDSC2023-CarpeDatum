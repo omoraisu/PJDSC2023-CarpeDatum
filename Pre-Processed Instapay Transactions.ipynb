{
 "cells": [
  {
   "cell_type": "markdown",
   "id": "f905a022-5032-4b8e-a3ee-943662ca6f79",
   "metadata": {},
   "source": [
    "# Incoming Instapay Transactions "
   ]
  },
  {
   "cell_type": "markdown",
   "id": "49ffe304-8e77-4123-8b3c-75687698c579",
   "metadata": {},
   "source": [
    "## Pre-Processing"
   ]
  },
  {
   "cell_type": "markdown",
   "id": "f3a78b32-a165-4189-aa34-0580562252e0",
   "metadata": {},
   "source": [
    "### Data Acquisition\n",
    "Imported the dataset and converted it from .xslx to .csv."
   ]
  },
  {
   "cell_type": "code",
   "execution_count": 11,
   "id": "945f5d9f-1e25-4057-a582-c5bfc86628e6",
   "metadata": {},
   "outputs": [],
   "source": [
    "import pandas as pd\n",
    "import numpy as np"
   ]
  },
  {
   "cell_type": "code",
   "execution_count": 12,
   "id": "4f2a1346-b6f8-4a20-bacc-e90900a02029",
   "metadata": {},
   "outputs": [],
   "source": [
    "df1 = pd.read_excel(\"C:/Users/daeni/Desktop/LOVE/PJDSC2023-CarpeDatum/PJDSC2023-CarpeDatum/Dataset/INCOMING INSTAPAY TXNS_PJDSC.xlsx\")"
   ]
  },
  {
   "cell_type": "code",
   "execution_count": 13,
   "id": "f1c632a6-8c5f-495e-8572-36f642a73fb0",
   "metadata": {},
   "outputs": [],
   "source": [
    "df1.to_csv('INCOMING INSTAPAY TXNS_PJDSC')"
   ]
  },
  {
   "cell_type": "markdown",
   "id": "dae000e6-c4da-4c1f-afa4-bf98f522230a",
   "metadata": {},
   "source": [
    "---"
   ]
  },
  {
   "cell_type": "markdown",
   "id": "1e4e4425-bbc0-4a46-883d-5cae102e585f",
   "metadata": {},
   "source": [
    "### First and last values of the dataframe"
   ]
  },
  {
   "cell_type": "code",
   "execution_count": 14,
   "id": "c8203221-3808-4e8b-bff1-01dfae648d7d",
   "metadata": {},
   "outputs": [
    {
     "data": {
      "text/html": [
       "<div>\n",
       "<style scoped>\n",
       "    .dataframe tbody tr th:only-of-type {\n",
       "        vertical-align: middle;\n",
       "    }\n",
       "\n",
       "    .dataframe tbody tr th {\n",
       "        vertical-align: top;\n",
       "    }\n",
       "\n",
       "    .dataframe thead th {\n",
       "        text-align: right;\n",
       "    }\n",
       "</style>\n",
       "<table border=\"1\" class=\"dataframe\">\n",
       "  <thead>\n",
       "    <tr style=\"text-align: right;\">\n",
       "      <th></th>\n",
       "      <th>CUST_NUM</th>\n",
       "      <th>DATE</th>\n",
       "      <th>TIME</th>\n",
       "      <th>AMOUNT</th>\n",
       "      <th>BPI_ACCT_TYPE</th>\n",
       "      <th>SRC_BANK_NAME</th>\n",
       "    </tr>\n",
       "  </thead>\n",
       "  <tbody>\n",
       "    <tr>\n",
       "      <th>0</th>\n",
       "      <td>5713.401964</td>\n",
       "      <td>2023-04-01</td>\n",
       "      <td>73591</td>\n",
       "      <td>12299.238264</td>\n",
       "      <td>SA</td>\n",
       "      <td>LEMUR</td>\n",
       "    </tr>\n",
       "    <tr>\n",
       "      <th>1</th>\n",
       "      <td>5713.401964</td>\n",
       "      <td>2023-04-05</td>\n",
       "      <td>44714</td>\n",
       "      <td>2499.424915</td>\n",
       "      <td>SA</td>\n",
       "      <td>HUMAN</td>\n",
       "    </tr>\n",
       "    <tr>\n",
       "      <th>2</th>\n",
       "      <td>5713.401964</td>\n",
       "      <td>2023-04-24</td>\n",
       "      <td>46302</td>\n",
       "      <td>748.744684</td>\n",
       "      <td>SA</td>\n",
       "      <td>HUMAN</td>\n",
       "    </tr>\n",
       "    <tr>\n",
       "      <th>3</th>\n",
       "      <td>5713.401964</td>\n",
       "      <td>2023-04-29</td>\n",
       "      <td>40612</td>\n",
       "      <td>1799.144167</td>\n",
       "      <td>SA</td>\n",
       "      <td>HUMAN</td>\n",
       "    </tr>\n",
       "    <tr>\n",
       "      <th>4</th>\n",
       "      <td>5713.401964</td>\n",
       "      <td>2023-04-29</td>\n",
       "      <td>24021</td>\n",
       "      <td>1499.628880</td>\n",
       "      <td>SA</td>\n",
       "      <td>HUMAN</td>\n",
       "    </tr>\n",
       "  </tbody>\n",
       "</table>\n",
       "</div>"
      ],
      "text/plain": [
       "      CUST_NUM       DATE   TIME        AMOUNT BPI_ACCT_TYPE SRC_BANK_NAME\n",
       "0  5713.401964 2023-04-01  73591  12299.238264            SA         LEMUR\n",
       "1  5713.401964 2023-04-05  44714   2499.424915            SA         HUMAN\n",
       "2  5713.401964 2023-04-24  46302    748.744684            SA         HUMAN\n",
       "3  5713.401964 2023-04-29  40612   1799.144167            SA         HUMAN\n",
       "4  5713.401964 2023-04-29  24021   1499.628880            SA         HUMAN"
      ]
     },
     "execution_count": 14,
     "metadata": {},
     "output_type": "execute_result"
    }
   ],
   "source": [
    "df1.head()"
   ]
  },
  {
   "cell_type": "code",
   "execution_count": 15,
   "id": "98e9cf57-fb52-49fe-8473-050e1cca6982",
   "metadata": {},
   "outputs": [
    {
     "data": {
      "text/html": [
       "<div>\n",
       "<style scoped>\n",
       "    .dataframe tbody tr th:only-of-type {\n",
       "        vertical-align: middle;\n",
       "    }\n",
       "\n",
       "    .dataframe tbody tr th {\n",
       "        vertical-align: top;\n",
       "    }\n",
       "\n",
       "    .dataframe thead th {\n",
       "        text-align: right;\n",
       "    }\n",
       "</style>\n",
       "<table border=\"1\" class=\"dataframe\">\n",
       "  <thead>\n",
       "    <tr style=\"text-align: right;\">\n",
       "      <th></th>\n",
       "      <th>CUST_NUM</th>\n",
       "      <th>DATE</th>\n",
       "      <th>TIME</th>\n",
       "      <th>AMOUNT</th>\n",
       "      <th>BPI_ACCT_TYPE</th>\n",
       "      <th>SRC_BANK_NAME</th>\n",
       "    </tr>\n",
       "  </thead>\n",
       "  <tbody>\n",
       "    <tr>\n",
       "      <th>80037</th>\n",
       "      <td>11432.368259</td>\n",
       "      <td>2023-06-30</td>\n",
       "      <td>76309</td>\n",
       "      <td>2998.982229</td>\n",
       "      <td>SA</td>\n",
       "      <td>HUMAN</td>\n",
       "    </tr>\n",
       "    <tr>\n",
       "      <th>80038</th>\n",
       "      <td>9868.617026</td>\n",
       "      <td>2023-06-30</td>\n",
       "      <td>38348</td>\n",
       "      <td>7499.457892</td>\n",
       "      <td>SA</td>\n",
       "      <td>HUMAN</td>\n",
       "    </tr>\n",
       "    <tr>\n",
       "      <th>80039</th>\n",
       "      <td>9868.617026</td>\n",
       "      <td>2023-06-30</td>\n",
       "      <td>38465</td>\n",
       "      <td>19.806571</td>\n",
       "      <td>SA</td>\n",
       "      <td>HUMAN</td>\n",
       "    </tr>\n",
       "    <tr>\n",
       "      <th>80040</th>\n",
       "      <td>13968.861156</td>\n",
       "      <td>2023-06-30</td>\n",
       "      <td>51968</td>\n",
       "      <td>999.240763</td>\n",
       "      <td>SA</td>\n",
       "      <td>HUMAN</td>\n",
       "    </tr>\n",
       "    <tr>\n",
       "      <th>80041</th>\n",
       "      <td>5523.664001</td>\n",
       "      <td>2023-06-30</td>\n",
       "      <td>65503</td>\n",
       "      <td>9999.146908</td>\n",
       "      <td>SA</td>\n",
       "      <td>DOG</td>\n",
       "    </tr>\n",
       "  </tbody>\n",
       "</table>\n",
       "</div>"
      ],
      "text/plain": [
       "           CUST_NUM       DATE   TIME       AMOUNT BPI_ACCT_TYPE SRC_BANK_NAME\n",
       "80037  11432.368259 2023-06-30  76309  2998.982229            SA         HUMAN\n",
       "80038   9868.617026 2023-06-30  38348  7499.457892            SA         HUMAN\n",
       "80039   9868.617026 2023-06-30  38465    19.806571            SA         HUMAN\n",
       "80040  13968.861156 2023-06-30  51968   999.240763            SA         HUMAN\n",
       "80041   5523.664001 2023-06-30  65503  9999.146908            SA           DOG"
      ]
     },
     "execution_count": 15,
     "metadata": {},
     "output_type": "execute_result"
    }
   ],
   "source": [
    "df1.tail()"
   ]
  },
  {
   "cell_type": "markdown",
   "id": "fc2af6e3-21ec-4550-84de-b1c69d1fd7d5",
   "metadata": {},
   "source": [
    "---"
   ]
  },
  {
   "cell_type": "markdown",
   "id": "fdbe0be7-9daa-4bea-a43e-e2b6a2421e68",
   "metadata": {},
   "source": [
    "### Number of rows and columns in the dataframe"
   ]
  },
  {
   "cell_type": "code",
   "execution_count": 16,
   "id": "7edf25ee-dce8-48cf-af36-1ea9237dd19f",
   "metadata": {},
   "outputs": [
    {
     "data": {
      "text/plain": [
       "(80042, 6)"
      ]
     },
     "execution_count": 16,
     "metadata": {},
     "output_type": "execute_result"
    }
   ],
   "source": [
    "df1.shape"
   ]
  },
  {
   "cell_type": "markdown",
   "id": "b97ed6ef-b388-4d7e-9b1d-8f22fef39bd4",
   "metadata": {},
   "source": [
    "---"
   ]
  },
  {
   "cell_type": "markdown",
   "id": "c9fa9024-2f9e-4df6-995b-fb864aa4fc8b",
   "metadata": {},
   "source": [
    "### Finding Missing Values"
   ]
  },
  {
   "cell_type": "code",
   "execution_count": 17,
   "id": "2a8bcd24-b0b9-4e4b-a725-4a0e20d2715d",
   "metadata": {},
   "outputs": [
    {
     "data": {
      "text/html": [
       "<div>\n",
       "<style scoped>\n",
       "    .dataframe tbody tr th:only-of-type {\n",
       "        vertical-align: middle;\n",
       "    }\n",
       "\n",
       "    .dataframe tbody tr th {\n",
       "        vertical-align: top;\n",
       "    }\n",
       "\n",
       "    .dataframe thead th {\n",
       "        text-align: right;\n",
       "    }\n",
       "</style>\n",
       "<table border=\"1\" class=\"dataframe\">\n",
       "  <thead>\n",
       "    <tr style=\"text-align: right;\">\n",
       "      <th></th>\n",
       "      <th>CUST_NUM</th>\n",
       "      <th>DATE</th>\n",
       "      <th>TIME</th>\n",
       "      <th>AMOUNT</th>\n",
       "      <th>BPI_ACCT_TYPE</th>\n",
       "      <th>SRC_BANK_NAME</th>\n",
       "    </tr>\n",
       "  </thead>\n",
       "  <tbody>\n",
       "    <tr>\n",
       "      <th>0</th>\n",
       "      <td>False</td>\n",
       "      <td>False</td>\n",
       "      <td>False</td>\n",
       "      <td>False</td>\n",
       "      <td>False</td>\n",
       "      <td>False</td>\n",
       "    </tr>\n",
       "    <tr>\n",
       "      <th>1</th>\n",
       "      <td>False</td>\n",
       "      <td>False</td>\n",
       "      <td>False</td>\n",
       "      <td>False</td>\n",
       "      <td>False</td>\n",
       "      <td>False</td>\n",
       "    </tr>\n",
       "    <tr>\n",
       "      <th>2</th>\n",
       "      <td>False</td>\n",
       "      <td>False</td>\n",
       "      <td>False</td>\n",
       "      <td>False</td>\n",
       "      <td>False</td>\n",
       "      <td>False</td>\n",
       "    </tr>\n",
       "    <tr>\n",
       "      <th>3</th>\n",
       "      <td>False</td>\n",
       "      <td>False</td>\n",
       "      <td>False</td>\n",
       "      <td>False</td>\n",
       "      <td>False</td>\n",
       "      <td>False</td>\n",
       "    </tr>\n",
       "    <tr>\n",
       "      <th>4</th>\n",
       "      <td>False</td>\n",
       "      <td>False</td>\n",
       "      <td>False</td>\n",
       "      <td>False</td>\n",
       "      <td>False</td>\n",
       "      <td>False</td>\n",
       "    </tr>\n",
       "  </tbody>\n",
       "</table>\n",
       "</div>"
      ],
      "text/plain": [
       "   CUST_NUM   DATE   TIME  AMOUNT  BPI_ACCT_TYPE  SRC_BANK_NAME\n",
       "0     False  False  False   False          False          False\n",
       "1     False  False  False   False          False          False\n",
       "2     False  False  False   False          False          False\n",
       "3     False  False  False   False          False          False\n",
       "4     False  False  False   False          False          False"
      ]
     },
     "execution_count": 17,
     "metadata": {},
     "output_type": "execute_result"
    }
   ],
   "source": [
    "df1.isna().head()"
   ]
  },
  {
   "cell_type": "code",
   "execution_count": 18,
   "id": "4561fbe0-d959-42dd-8e72-486f8120a5af",
   "metadata": {},
   "outputs": [
    {
     "data": {
      "text/plain": [
       "CUST_NUM         0\n",
       "DATE             0\n",
       "TIME             0\n",
       "AMOUNT           0\n",
       "BPI_ACCT_TYPE    0\n",
       "SRC_BANK_NAME    0\n",
       "dtype: int64"
      ]
     },
     "execution_count": 18,
     "metadata": {},
     "output_type": "execute_result"
    }
   ],
   "source": [
    "df1.isna().sum()"
   ]
  },
  {
   "cell_type": "code",
   "execution_count": 41,
   "id": "0a14a993-f190-43dd-90e5-fa5878825ef7",
   "metadata": {},
   "outputs": [
    {
     "data": {
      "text/html": [
       "<div>\n",
       "<style scoped>\n",
       "    .dataframe tbody tr th:only-of-type {\n",
       "        vertical-align: middle;\n",
       "    }\n",
       "\n",
       "    .dataframe tbody tr th {\n",
       "        vertical-align: top;\n",
       "    }\n",
       "\n",
       "    .dataframe thead th {\n",
       "        text-align: right;\n",
       "    }\n",
       "</style>\n",
       "<table border=\"1\" class=\"dataframe\">\n",
       "  <thead>\n",
       "    <tr style=\"text-align: right;\">\n",
       "      <th></th>\n",
       "      <th>CUST_NUM</th>\n",
       "      <th>DATE</th>\n",
       "      <th>TIME</th>\n",
       "      <th>AMOUNT</th>\n",
       "      <th>BPI_ACCT_TYPE</th>\n",
       "      <th>SRC_BANK_NAME</th>\n",
       "    </tr>\n",
       "  </thead>\n",
       "  <tbody>\n",
       "    <tr>\n",
       "      <th>0</th>\n",
       "      <td>False</td>\n",
       "      <td>False</td>\n",
       "      <td>False</td>\n",
       "      <td>False</td>\n",
       "      <td>False</td>\n",
       "      <td>False</td>\n",
       "    </tr>\n",
       "    <tr>\n",
       "      <th>1</th>\n",
       "      <td>False</td>\n",
       "      <td>False</td>\n",
       "      <td>False</td>\n",
       "      <td>False</td>\n",
       "      <td>False</td>\n",
       "      <td>False</td>\n",
       "    </tr>\n",
       "    <tr>\n",
       "      <th>2</th>\n",
       "      <td>False</td>\n",
       "      <td>False</td>\n",
       "      <td>False</td>\n",
       "      <td>False</td>\n",
       "      <td>False</td>\n",
       "      <td>False</td>\n",
       "    </tr>\n",
       "    <tr>\n",
       "      <th>3</th>\n",
       "      <td>False</td>\n",
       "      <td>False</td>\n",
       "      <td>False</td>\n",
       "      <td>False</td>\n",
       "      <td>False</td>\n",
       "      <td>False</td>\n",
       "    </tr>\n",
       "    <tr>\n",
       "      <th>4</th>\n",
       "      <td>False</td>\n",
       "      <td>False</td>\n",
       "      <td>False</td>\n",
       "      <td>False</td>\n",
       "      <td>False</td>\n",
       "      <td>False</td>\n",
       "    </tr>\n",
       "  </tbody>\n",
       "</table>\n",
       "</div>"
      ],
      "text/plain": [
       "   CUST_NUM   DATE   TIME  AMOUNT  BPI_ACCT_TYPE  SRC_BANK_NAME\n",
       "0     False  False  False   False          False          False\n",
       "1     False  False  False   False          False          False\n",
       "2     False  False  False   False          False          False\n",
       "3     False  False  False   False          False          False\n",
       "4     False  False  False   False          False          False"
      ]
     },
     "execution_count": 41,
     "metadata": {},
     "output_type": "execute_result"
    }
   ],
   "source": [
    "df1.isnull().head()"
   ]
  },
  {
   "cell_type": "code",
   "execution_count": 38,
   "id": "3f48df60-104c-4698-a804-bf109808eab3",
   "metadata": {},
   "outputs": [
    {
     "data": {
      "text/plain": [
       "CUST_NUM         0\n",
       "DATE             0\n",
       "TIME             0\n",
       "AMOUNT           0\n",
       "BPI_ACCT_TYPE    0\n",
       "SRC_BANK_NAME    0\n",
       "dtype: int64"
      ]
     },
     "execution_count": 38,
     "metadata": {},
     "output_type": "execute_result"
    }
   ],
   "source": [
    "df1.isnull().sum()"
   ]
  },
  {
   "cell_type": "markdown",
   "id": "c9850ddd-70a4-4568-a053-40e08c6a2f5c",
   "metadata": {},
   "source": [
    "**Findings:** There are no missing values for this dataframe. \n"
   ]
  },
  {
   "cell_type": "markdown",
   "id": "da081135-a6e7-465d-aba3-1885db930822",
   "metadata": {},
   "source": [
    "---"
   ]
  },
  {
   "cell_type": "markdown",
   "id": "98e30e0f-accb-4bd9-948a-cf8c5a5cf6d5",
   "metadata": {},
   "source": [
    "### Basic Insights"
   ]
  },
  {
   "cell_type": "code",
   "execution_count": 29,
   "id": "714ca5b6-6288-4ad2-813a-561cfa545df2",
   "metadata": {},
   "outputs": [
    {
     "data": {
      "text/plain": [
       "CUST_NUM                float64\n",
       "DATE             datetime64[ns]\n",
       "TIME                      int64\n",
       "AMOUNT                  float64\n",
       "BPI_ACCT_TYPE            object\n",
       "SRC_BANK_NAME            object\n",
       "dtype: object"
      ]
     },
     "execution_count": 29,
     "metadata": {},
     "output_type": "execute_result"
    }
   ],
   "source": [
    "df1.dtypes"
   ]
  },
  {
   "cell_type": "code",
   "execution_count": 33,
   "id": "3a13ec3a-7d02-42d5-a842-0fd58fd8e298",
   "metadata": {},
   "outputs": [
    {
     "data": {
      "text/html": [
       "<div>\n",
       "<style scoped>\n",
       "    .dataframe tbody tr th:only-of-type {\n",
       "        vertical-align: middle;\n",
       "    }\n",
       "\n",
       "    .dataframe tbody tr th {\n",
       "        vertical-align: top;\n",
       "    }\n",
       "\n",
       "    .dataframe thead th {\n",
       "        text-align: right;\n",
       "    }\n",
       "</style>\n",
       "<table border=\"1\" class=\"dataframe\">\n",
       "  <thead>\n",
       "    <tr style=\"text-align: right;\">\n",
       "      <th></th>\n",
       "      <th>CUST_NUM</th>\n",
       "      <th>TIME</th>\n",
       "      <th>AMOUNT</th>\n",
       "    </tr>\n",
       "  </thead>\n",
       "  <tbody>\n",
       "    <tr>\n",
       "      <th>count</th>\n",
       "      <td>80042.000000</td>\n",
       "      <td>80042.000000</td>\n",
       "      <td>80042.000000</td>\n",
       "    </tr>\n",
       "    <tr>\n",
       "      <th>mean</th>\n",
       "      <td>9529.540598</td>\n",
       "      <td>49665.994703</td>\n",
       "      <td>7222.707496</td>\n",
       "    </tr>\n",
       "    <tr>\n",
       "      <th>std</th>\n",
       "      <td>3318.957803</td>\n",
       "      <td>18565.417174</td>\n",
       "      <td>9930.187824</td>\n",
       "    </tr>\n",
       "    <tr>\n",
       "      <th>min</th>\n",
       "      <td>85.229103</td>\n",
       "      <td>0.000000</td>\n",
       "      <td>0.000000</td>\n",
       "    </tr>\n",
       "    <tr>\n",
       "      <th>25%</th>\n",
       "      <td>7263.799281</td>\n",
       "      <td>36280.000000</td>\n",
       "      <td>1399.106327</td>\n",
       "    </tr>\n",
       "    <tr>\n",
       "      <th>50%</th>\n",
       "      <td>10115.793790</td>\n",
       "      <td>50135.500000</td>\n",
       "      <td>3499.219629</td>\n",
       "    </tr>\n",
       "    <tr>\n",
       "      <th>75%</th>\n",
       "      <td>12362.797499</td>\n",
       "      <td>63988.000000</td>\n",
       "      <td>8899.650838</td>\n",
       "    </tr>\n",
       "    <tr>\n",
       "      <th>max</th>\n",
       "      <td>14140.490939</td>\n",
       "      <td>86395.000000</td>\n",
       "      <td>50000.127465</td>\n",
       "    </tr>\n",
       "  </tbody>\n",
       "</table>\n",
       "</div>"
      ],
      "text/plain": [
       "           CUST_NUM          TIME        AMOUNT\n",
       "count  80042.000000  80042.000000  80042.000000\n",
       "mean    9529.540598  49665.994703   7222.707496\n",
       "std     3318.957803  18565.417174   9930.187824\n",
       "min       85.229103      0.000000      0.000000\n",
       "25%     7263.799281  36280.000000   1399.106327\n",
       "50%    10115.793790  50135.500000   3499.219629\n",
       "75%    12362.797499  63988.000000   8899.650838\n",
       "max    14140.490939  86395.000000  50000.127465"
      ]
     },
     "execution_count": 33,
     "metadata": {},
     "output_type": "execute_result"
    }
   ],
   "source": [
    "df1.describe()"
   ]
  },
  {
   "cell_type": "code",
   "execution_count": 34,
   "id": "1d357126-e855-4712-8749-09417c5d2570",
   "metadata": {},
   "outputs": [
    {
     "name": "stderr",
     "output_type": "stream",
     "text": [
      "C:\\Users\\daeni\\AppData\\Local\\Temp\\ipykernel_19692\\4174339788.py:1: FutureWarning: Treating datetime data as categorical rather than numeric in `.describe` is deprecated and will be removed in a future version of pandas. Specify `datetime_is_numeric=True` to silence this warning and adopt the future behavior now.\n",
      "  df1.describe(include=\"all\")\n"
     ]
    },
    {
     "data": {
      "text/html": [
       "<div>\n",
       "<style scoped>\n",
       "    .dataframe tbody tr th:only-of-type {\n",
       "        vertical-align: middle;\n",
       "    }\n",
       "\n",
       "    .dataframe tbody tr th {\n",
       "        vertical-align: top;\n",
       "    }\n",
       "\n",
       "    .dataframe thead th {\n",
       "        text-align: right;\n",
       "    }\n",
       "</style>\n",
       "<table border=\"1\" class=\"dataframe\">\n",
       "  <thead>\n",
       "    <tr style=\"text-align: right;\">\n",
       "      <th></th>\n",
       "      <th>CUST_NUM</th>\n",
       "      <th>DATE</th>\n",
       "      <th>TIME</th>\n",
       "      <th>AMOUNT</th>\n",
       "      <th>BPI_ACCT_TYPE</th>\n",
       "      <th>SRC_BANK_NAME</th>\n",
       "    </tr>\n",
       "  </thead>\n",
       "  <tbody>\n",
       "    <tr>\n",
       "      <th>count</th>\n",
       "      <td>80042.000000</td>\n",
       "      <td>80042</td>\n",
       "      <td>80042.000000</td>\n",
       "      <td>80042.000000</td>\n",
       "      <td>80042</td>\n",
       "      <td>80042</td>\n",
       "    </tr>\n",
       "    <tr>\n",
       "      <th>unique</th>\n",
       "      <td>NaN</td>\n",
       "      <td>91</td>\n",
       "      <td>NaN</td>\n",
       "      <td>NaN</td>\n",
       "      <td>2</td>\n",
       "      <td>49</td>\n",
       "    </tr>\n",
       "    <tr>\n",
       "      <th>top</th>\n",
       "      <td>NaN</td>\n",
       "      <td>2023-05-31 00:00:00</td>\n",
       "      <td>NaN</td>\n",
       "      <td>NaN</td>\n",
       "      <td>SA</td>\n",
       "      <td>HUMAN</td>\n",
       "    </tr>\n",
       "    <tr>\n",
       "      <th>freq</th>\n",
       "      <td>NaN</td>\n",
       "      <td>1214</td>\n",
       "      <td>NaN</td>\n",
       "      <td>NaN</td>\n",
       "      <td>79248</td>\n",
       "      <td>41404</td>\n",
       "    </tr>\n",
       "    <tr>\n",
       "      <th>first</th>\n",
       "      <td>NaN</td>\n",
       "      <td>2023-04-01 00:00:00</td>\n",
       "      <td>NaN</td>\n",
       "      <td>NaN</td>\n",
       "      <td>NaN</td>\n",
       "      <td>NaN</td>\n",
       "    </tr>\n",
       "    <tr>\n",
       "      <th>last</th>\n",
       "      <td>NaN</td>\n",
       "      <td>2023-06-30 00:00:00</td>\n",
       "      <td>NaN</td>\n",
       "      <td>NaN</td>\n",
       "      <td>NaN</td>\n",
       "      <td>NaN</td>\n",
       "    </tr>\n",
       "    <tr>\n",
       "      <th>mean</th>\n",
       "      <td>9529.540598</td>\n",
       "      <td>NaN</td>\n",
       "      <td>49665.994703</td>\n",
       "      <td>7222.707496</td>\n",
       "      <td>NaN</td>\n",
       "      <td>NaN</td>\n",
       "    </tr>\n",
       "    <tr>\n",
       "      <th>std</th>\n",
       "      <td>3318.957803</td>\n",
       "      <td>NaN</td>\n",
       "      <td>18565.417174</td>\n",
       "      <td>9930.187824</td>\n",
       "      <td>NaN</td>\n",
       "      <td>NaN</td>\n",
       "    </tr>\n",
       "    <tr>\n",
       "      <th>min</th>\n",
       "      <td>85.229103</td>\n",
       "      <td>NaN</td>\n",
       "      <td>0.000000</td>\n",
       "      <td>0.000000</td>\n",
       "      <td>NaN</td>\n",
       "      <td>NaN</td>\n",
       "    </tr>\n",
       "    <tr>\n",
       "      <th>25%</th>\n",
       "      <td>7263.799281</td>\n",
       "      <td>NaN</td>\n",
       "      <td>36280.000000</td>\n",
       "      <td>1399.106327</td>\n",
       "      <td>NaN</td>\n",
       "      <td>NaN</td>\n",
       "    </tr>\n",
       "    <tr>\n",
       "      <th>50%</th>\n",
       "      <td>10115.793790</td>\n",
       "      <td>NaN</td>\n",
       "      <td>50135.500000</td>\n",
       "      <td>3499.219629</td>\n",
       "      <td>NaN</td>\n",
       "      <td>NaN</td>\n",
       "    </tr>\n",
       "    <tr>\n",
       "      <th>75%</th>\n",
       "      <td>12362.797499</td>\n",
       "      <td>NaN</td>\n",
       "      <td>63988.000000</td>\n",
       "      <td>8899.650838</td>\n",
       "      <td>NaN</td>\n",
       "      <td>NaN</td>\n",
       "    </tr>\n",
       "    <tr>\n",
       "      <th>max</th>\n",
       "      <td>14140.490939</td>\n",
       "      <td>NaN</td>\n",
       "      <td>86395.000000</td>\n",
       "      <td>50000.127465</td>\n",
       "      <td>NaN</td>\n",
       "      <td>NaN</td>\n",
       "    </tr>\n",
       "  </tbody>\n",
       "</table>\n",
       "</div>"
      ],
      "text/plain": [
       "            CUST_NUM                 DATE          TIME        AMOUNT  \\\n",
       "count   80042.000000                80042  80042.000000  80042.000000   \n",
       "unique           NaN                   91           NaN           NaN   \n",
       "top              NaN  2023-05-31 00:00:00           NaN           NaN   \n",
       "freq             NaN                 1214           NaN           NaN   \n",
       "first            NaN  2023-04-01 00:00:00           NaN           NaN   \n",
       "last             NaN  2023-06-30 00:00:00           NaN           NaN   \n",
       "mean     9529.540598                  NaN  49665.994703   7222.707496   \n",
       "std      3318.957803                  NaN  18565.417174   9930.187824   \n",
       "min        85.229103                  NaN      0.000000      0.000000   \n",
       "25%      7263.799281                  NaN  36280.000000   1399.106327   \n",
       "50%     10115.793790                  NaN  50135.500000   3499.219629   \n",
       "75%     12362.797499                  NaN  63988.000000   8899.650838   \n",
       "max     14140.490939                  NaN  86395.000000  50000.127465   \n",
       "\n",
       "       BPI_ACCT_TYPE SRC_BANK_NAME  \n",
       "count          80042         80042  \n",
       "unique             2            49  \n",
       "top               SA         HUMAN  \n",
       "freq           79248         41404  \n",
       "first            NaN           NaN  \n",
       "last             NaN           NaN  \n",
       "mean             NaN           NaN  \n",
       "std              NaN           NaN  \n",
       "min              NaN           NaN  \n",
       "25%              NaN           NaN  \n",
       "50%              NaN           NaN  \n",
       "75%              NaN           NaN  \n",
       "max              NaN           NaN  "
      ]
     },
     "execution_count": 34,
     "metadata": {},
     "output_type": "execute_result"
    }
   ],
   "source": [
    "df1.describe(include=\"all\")"
   ]
  },
  {
   "cell_type": "code",
   "execution_count": 35,
   "id": "a4ae1816-abb0-4ef6-99ba-259583a4165b",
   "metadata": {},
   "outputs": [
    {
     "name": "stdout",
     "output_type": "stream",
     "text": [
      "<class 'pandas.core.frame.DataFrame'>\n",
      "RangeIndex: 80042 entries, 0 to 80041\n",
      "Data columns (total 6 columns):\n",
      " #   Column         Non-Null Count  Dtype         \n",
      "---  ------         --------------  -----         \n",
      " 0   CUST_NUM       80042 non-null  float64       \n",
      " 1   DATE           80042 non-null  datetime64[ns]\n",
      " 2   TIME           80042 non-null  int64         \n",
      " 3   AMOUNT         80042 non-null  float64       \n",
      " 4   BPI_ACCT_TYPE  80042 non-null  object        \n",
      " 5   SRC_BANK_NAME  80042 non-null  object        \n",
      "dtypes: datetime64[ns](1), float64(2), int64(1), object(2)\n",
      "memory usage: 3.7+ MB\n"
     ]
    }
   ],
   "source": [
    "df1.info()"
   ]
  },
  {
   "cell_type": "markdown",
   "id": "c06f0a9c-05ef-4907-9950-4ed6a30de7db",
   "metadata": {},
   "source": [
    "---"
   ]
  },
  {
   "cell_type": "markdown",
   "id": "18e5899b-a5ea-4d9e-b140-d65e314347bf",
   "metadata": {},
   "source": [
    "## Data Wrangling"
   ]
  },
  {
   "cell_type": "markdown",
   "id": "d3b09700-d6d8-4d25-80db-ac7fb0e229d0",
   "metadata": {},
   "source": [
    "### Convert data types to proper format"
   ]
  },
  {
   "cell_type": "code",
   "execution_count": 54,
   "id": "0743ece5-d4b5-4c41-8611-9be4554bb301",
   "metadata": {},
   "outputs": [],
   "source": [
    "# Convert time to the proper format. I dont know why its integers. "
   ]
  },
  {
   "cell_type": "markdown",
   "id": "20d86f9f-14b8-45e4-b4ab-52254ca12da9",
   "metadata": {},
   "source": [
    "### Breaking Down Categorical Variables"
   ]
  },
  {
   "cell_type": "markdown",
   "id": "91d4c4bc-6328-4425-83d4-4177ffeee9e5",
   "metadata": {},
   "source": [
    "For the BPI Account Type: "
   ]
  },
  {
   "cell_type": "code",
   "execution_count": 71,
   "id": "8dd2b020-1dfa-4ffd-80fd-93df5599fb75",
   "metadata": {},
   "outputs": [
    {
     "data": {
      "text/html": [
       "<div>\n",
       "<style scoped>\n",
       "    .dataframe tbody tr th:only-of-type {\n",
       "        vertical-align: middle;\n",
       "    }\n",
       "\n",
       "    .dataframe tbody tr th {\n",
       "        vertical-align: top;\n",
       "    }\n",
       "\n",
       "    .dataframe thead th {\n",
       "        text-align: right;\n",
       "    }\n",
       "</style>\n",
       "<table border=\"1\" class=\"dataframe\">\n",
       "  <thead>\n",
       "    <tr style=\"text-align: right;\">\n",
       "      <th></th>\n",
       "      <th>ACCT-TYPE-CA</th>\n",
       "      <th>ACCT-TYPE-SA</th>\n",
       "    </tr>\n",
       "  </thead>\n",
       "  <tbody>\n",
       "    <tr>\n",
       "      <th>0</th>\n",
       "      <td>0</td>\n",
       "      <td>1</td>\n",
       "    </tr>\n",
       "    <tr>\n",
       "      <th>1</th>\n",
       "      <td>0</td>\n",
       "      <td>1</td>\n",
       "    </tr>\n",
       "    <tr>\n",
       "      <th>2</th>\n",
       "      <td>0</td>\n",
       "      <td>1</td>\n",
       "    </tr>\n",
       "    <tr>\n",
       "      <th>3</th>\n",
       "      <td>0</td>\n",
       "      <td>1</td>\n",
       "    </tr>\n",
       "    <tr>\n",
       "      <th>4</th>\n",
       "      <td>0</td>\n",
       "      <td>1</td>\n",
       "    </tr>\n",
       "    <tr>\n",
       "      <th>...</th>\n",
       "      <td>...</td>\n",
       "      <td>...</td>\n",
       "    </tr>\n",
       "    <tr>\n",
       "      <th>80037</th>\n",
       "      <td>0</td>\n",
       "      <td>1</td>\n",
       "    </tr>\n",
       "    <tr>\n",
       "      <th>80038</th>\n",
       "      <td>0</td>\n",
       "      <td>1</td>\n",
       "    </tr>\n",
       "    <tr>\n",
       "      <th>80039</th>\n",
       "      <td>0</td>\n",
       "      <td>1</td>\n",
       "    </tr>\n",
       "    <tr>\n",
       "      <th>80040</th>\n",
       "      <td>0</td>\n",
       "      <td>1</td>\n",
       "    </tr>\n",
       "    <tr>\n",
       "      <th>80041</th>\n",
       "      <td>0</td>\n",
       "      <td>1</td>\n",
       "    </tr>\n",
       "  </tbody>\n",
       "</table>\n",
       "<p>80042 rows × 2 columns</p>\n",
       "</div>"
      ],
      "text/plain": [
       "       ACCT-TYPE-CA  ACCT-TYPE-SA\n",
       "0                 0             1\n",
       "1                 0             1\n",
       "2                 0             1\n",
       "3                 0             1\n",
       "4                 0             1\n",
       "...             ...           ...\n",
       "80037             0             1\n",
       "80038             0             1\n",
       "80039             0             1\n",
       "80040             0             1\n",
       "80041             0             1\n",
       "\n",
       "[80042 rows x 2 columns]"
      ]
     },
     "execution_count": 71,
     "metadata": {},
     "output_type": "execute_result"
    }
   ],
   "source": [
    "dummy_variable_1 = pd.get_dummies(df1[\"BPI_ACCT_TYPE\"])\n",
    "dummy_variable_1.rename(columns={'CA':'ACCT-TYPE-CA', 'SA':'ACCT-TYPE-SA'}, inplace=True)\n",
    "dummy_variable_1"
   ]
  },
  {
   "cell_type": "code",
   "execution_count": 72,
   "id": "4719aded-7937-4465-94e7-dc6728cfb387",
   "metadata": {},
   "outputs": [],
   "source": [
    "df1 = pd.concat([df1, dummy_variable_1], axis=1)\n",
    "df1.drop(\"BPI_ACCT_TYPE\", axis = 1, inplace=True)"
   ]
  },
  {
   "cell_type": "markdown",
   "id": "f379842b-55f2-4521-a4eb-7d36ffe7ca1b",
   "metadata": {},
   "source": [
    "For the Source Bank Name: "
   ]
  },
  {
   "cell_type": "code",
   "execution_count": 86,
   "id": "ae047204-f32f-4dfb-ac4a-9b5919e1c695",
   "metadata": {},
   "outputs": [],
   "source": [
    "pd.set_option('display.max_columns', None)"
   ]
  },
  {
   "cell_type": "code",
   "execution_count": 113,
   "id": "3bdcc03c-5b59-4e4b-b109-cc57b3071399",
   "metadata": {},
   "outputs": [
    {
     "data": {
      "text/html": [
       "<div>\n",
       "<style scoped>\n",
       "    .dataframe tbody tr th:only-of-type {\n",
       "        vertical-align: middle;\n",
       "    }\n",
       "\n",
       "    .dataframe tbody tr th {\n",
       "        vertical-align: top;\n",
       "    }\n",
       "\n",
       "    .dataframe thead th {\n",
       "        text-align: right;\n",
       "    }\n",
       "</style>\n",
       "<table border=\"1\" class=\"dataframe\">\n",
       "  <thead>\n",
       "    <tr style=\"text-align: right;\">\n",
       "      <th></th>\n",
       "      <th>ANTELOPE</th>\n",
       "      <th>BADGER</th>\n",
       "      <th>BAT</th>\n",
       "      <th>BEAR</th>\n",
       "      <th>BOBCAT</th>\n",
       "      <th>CAMEL</th>\n",
       "      <th>CAT</th>\n",
       "      <th>CHEETAH</th>\n",
       "      <th>CHIMPANZEE</th>\n",
       "      <th>COUGAR</th>\n",
       "      <th>DEER</th>\n",
       "      <th>DOG</th>\n",
       "      <th>DOLPHIN</th>\n",
       "      <th>ELEPHANT</th>\n",
       "      <th>EMU</th>\n",
       "      <th>GIRAFFE</th>\n",
       "      <th>GORILLA</th>\n",
       "      <th>HEDGEHOG</th>\n",
       "      <th>HORSE</th>\n",
       "      <th>HUMAN</th>\n",
       "      <th>HYENA</th>\n",
       "      <th>IBEX</th>\n",
       "      <th>JACKAL</th>\n",
       "      <th>KANGAROO</th>\n",
       "      <th>KOALA</th>\n",
       "      <th>LEMUR</th>\n",
       "      <th>LION</th>\n",
       "      <th>LYNX</th>\n",
       "      <th>MARMOSET</th>\n",
       "      <th>MEERKAT</th>\n",
       "      <th>MONGOOSE</th>\n",
       "      <th>MONKEY</th>\n",
       "      <th>MOOSE</th>\n",
       "      <th>OSTRICH</th>\n",
       "      <th>OTTER</th>\n",
       "      <th>RABBIT</th>\n",
       "      <th>RACCOON</th>\n",
       "      <th>SEAL</th>\n",
       "      <th>SERVAL</th>\n",
       "      <th>SHREW</th>\n",
       "      <th>SKUNK</th>\n",
       "      <th>SLOTH</th>\n",
       "      <th>SQUIRREL</th>\n",
       "      <th>TAPIR</th>\n",
       "      <th>TIGER</th>\n",
       "      <th>VOLE</th>\n",
       "      <th>WHALE</th>\n",
       "      <th>WOLF</th>\n",
       "      <th>ZEBRA</th>\n",
       "    </tr>\n",
       "  </thead>\n",
       "  <tbody>\n",
       "    <tr>\n",
       "      <th>0</th>\n",
       "      <td>0</td>\n",
       "      <td>0</td>\n",
       "      <td>0</td>\n",
       "      <td>0</td>\n",
       "      <td>0</td>\n",
       "      <td>0</td>\n",
       "      <td>0</td>\n",
       "      <td>0</td>\n",
       "      <td>0</td>\n",
       "      <td>0</td>\n",
       "      <td>0</td>\n",
       "      <td>0</td>\n",
       "      <td>0</td>\n",
       "      <td>0</td>\n",
       "      <td>0</td>\n",
       "      <td>0</td>\n",
       "      <td>0</td>\n",
       "      <td>0</td>\n",
       "      <td>0</td>\n",
       "      <td>0</td>\n",
       "      <td>0</td>\n",
       "      <td>0</td>\n",
       "      <td>0</td>\n",
       "      <td>0</td>\n",
       "      <td>0</td>\n",
       "      <td>1</td>\n",
       "      <td>0</td>\n",
       "      <td>0</td>\n",
       "      <td>0</td>\n",
       "      <td>0</td>\n",
       "      <td>0</td>\n",
       "      <td>0</td>\n",
       "      <td>0</td>\n",
       "      <td>0</td>\n",
       "      <td>0</td>\n",
       "      <td>0</td>\n",
       "      <td>0</td>\n",
       "      <td>0</td>\n",
       "      <td>0</td>\n",
       "      <td>0</td>\n",
       "      <td>0</td>\n",
       "      <td>0</td>\n",
       "      <td>0</td>\n",
       "      <td>0</td>\n",
       "      <td>0</td>\n",
       "      <td>0</td>\n",
       "      <td>0</td>\n",
       "      <td>0</td>\n",
       "      <td>0</td>\n",
       "    </tr>\n",
       "  </tbody>\n",
       "</table>\n",
       "</div>"
      ],
      "text/plain": [
       "   ANTELOPE  BADGER  BAT  BEAR  BOBCAT  CAMEL  CAT  CHEETAH  CHIMPANZEE  \\\n",
       "0         0       0    0     0       0      0    0        0           0   \n",
       "\n",
       "   COUGAR  DEER  DOG  DOLPHIN  ELEPHANT  EMU  GIRAFFE  GORILLA  HEDGEHOG  \\\n",
       "0       0     0    0        0         0    0        0        0         0   \n",
       "\n",
       "   HORSE  HUMAN  HYENA  IBEX  JACKAL  KANGAROO  KOALA  LEMUR  LION  LYNX  \\\n",
       "0      0      0      0     0       0         0      0      1     0     0   \n",
       "\n",
       "   MARMOSET  MEERKAT  MONGOOSE  MONKEY  MOOSE  OSTRICH  OTTER  RABBIT  \\\n",
       "0         0        0         0       0      0        0      0       0   \n",
       "\n",
       "   RACCOON  SEAL  SERVAL  SHREW  SKUNK  SLOTH  SQUIRREL  TAPIR  TIGER  VOLE  \\\n",
       "0        0     0       0      0      0      0         0      0      0     0   \n",
       "\n",
       "   WHALE  WOLF  ZEBRA  \n",
       "0      0     0      0  "
      ]
     },
     "execution_count": 113,
     "metadata": {},
     "output_type": "execute_result"
    }
   ],
   "source": [
    "dummy_variable_1 = pd.get_dummies(df1[\"SRC_BANK_NAME\"])\n",
    "dummy_variable_1.head(1)"
   ]
  },
  {
   "cell_type": "code",
   "execution_count": 112,
   "id": "69e68137-353f-46f3-82d5-0af821f2d4cf",
   "metadata": {},
   "outputs": [
    {
     "data": {
      "text/plain": [
       "ANTELOPE      0\n",
       "BADGER        0\n",
       "BAT           0\n",
       "BEAR          0\n",
       "BOBCAT        0\n",
       "CAMEL         0\n",
       "CAT           0\n",
       "CHEETAH       0\n",
       "CHIMPANZEE    0\n",
       "COUGAR        0\n",
       "DEER          0\n",
       "DOG           0\n",
       "DOLPHIN       0\n",
       "ELEPHANT      0\n",
       "EMU           0\n",
       "GIRAFFE       0\n",
       "GORILLA       0\n",
       "HEDGEHOG      0\n",
       "HORSE         0\n",
       "HUMAN         0\n",
       "HYENA         0\n",
       "IBEX          0\n",
       "JACKAL        0\n",
       "KANGAROO      0\n",
       "KOALA         0\n",
       "LEMUR         1\n",
       "LION          0\n",
       "LYNX          0\n",
       "MARMOSET      0\n",
       "MEERKAT       0\n",
       "MONGOOSE      0\n",
       "MONKEY        0\n",
       "MOOSE         0\n",
       "OSTRICH       0\n",
       "OTTER         0\n",
       "RABBIT        0\n",
       "RACCOON       0\n",
       "SEAL          0\n",
       "SERVAL        0\n",
       "SHREW         0\n",
       "SKUNK         0\n",
       "SLOTH         0\n",
       "SQUIRREL      0\n",
       "TAPIR         0\n",
       "TIGER         0\n",
       "VOLE          0\n",
       "WHALE         0\n",
       "WOLF          0\n",
       "ZEBRA         0\n",
       "Name: 0, dtype: uint8"
      ]
     },
     "execution_count": 112,
     "metadata": {},
     "output_type": "execute_result"
    }
   ],
   "source": [
    "dummy_variable_1_columns = dummy_variable_1.iloc[0]\n",
    "dummy_variable_1_columns"
   ]
  },
  {
   "cell_type": "code",
   "execution_count": 114,
   "id": "697ec2e8-0f98-4c18-9d24-5cd98cf2a4bb",
   "metadata": {},
   "outputs": [
    {
     "ename": "TypeError",
     "evalue": "can only concatenate str (not \"list\") to str",
     "output_type": "error",
     "traceback": [
      "\u001b[1;31m---------------------------------------------------------------------------\u001b[0m",
      "\u001b[1;31mTypeError\u001b[0m                                 Traceback (most recent call last)",
      "Cell \u001b[1;32mIn[114], line 20\u001b[0m\n\u001b[0;32m      1\u001b[0m dummy_variables_1_old_colname \u001b[38;5;241m=\u001b[39m [\u001b[38;5;124m'\u001b[39m\u001b[38;5;124mANTELOPE\u001b[39m\u001b[38;5;124m'\u001b[39m, \u001b[38;5;124m'\u001b[39m\u001b[38;5;124mBADGER\u001b[39m\u001b[38;5;124m'\u001b[39m, \u001b[38;5;124m'\u001b[39m\u001b[38;5;124mBAT\u001b[39m\u001b[38;5;124m'\u001b[39m, \n\u001b[0;32m      2\u001b[0m                                 \u001b[38;5;124m'\u001b[39m\u001b[38;5;124mBEAR\u001b[39m\u001b[38;5;124m'\u001b[39m, \u001b[38;5;124m'\u001b[39m\u001b[38;5;124mBOBCAT\u001b[39m\u001b[38;5;124m'\u001b[39m, \u001b[38;5;124m'\u001b[39m\u001b[38;5;124mCAMEL\u001b[39m\u001b[38;5;124m'\u001b[39m,\n\u001b[0;32m      3\u001b[0m                                 \u001b[38;5;124m'\u001b[39m\u001b[38;5;124mCAT\u001b[39m\u001b[38;5;124m'\u001b[39m, \u001b[38;5;124m'\u001b[39m\u001b[38;5;124mCHEETAH\u001b[39m\u001b[38;5;124m'\u001b[39m, \u001b[38;5;124m'\u001b[39m\u001b[38;5;124mCHIMPANZEE\u001b[39m\u001b[38;5;124m'\u001b[39m,  \n\u001b[1;32m   (...)\u001b[0m\n\u001b[0;32m     17\u001b[0m                                 \u001b[38;5;124m'\u001b[39m\u001b[38;5;124mZEBRA\u001b[39m\u001b[38;5;124m'\u001b[39m\n\u001b[0;32m     18\u001b[0m                                ]\n\u001b[0;32m     19\u001b[0m set_prefix \u001b[38;5;241m=\u001b[39m \u001b[38;5;124m'\u001b[39m\u001b[38;5;124mSRC-\u001b[39m\u001b[38;5;124m'\u001b[39m\n\u001b[1;32m---> 20\u001b[0m column_mapping \u001b[38;5;241m=\u001b[39m {dummy_variables_1_old_colname: set_prefix \u001b[38;5;241m+\u001b[39m dummy_variables_1_old_colname \u001b[38;5;28;01mfor\u001b[39;00m colname \u001b[38;5;129;01min\u001b[39;00m dummy_variables_1_old_colname}\n",
      "Cell \u001b[1;32mIn[114], line 20\u001b[0m, in \u001b[0;36m<dictcomp>\u001b[1;34m(.0)\u001b[0m\n\u001b[0;32m      1\u001b[0m dummy_variables_1_old_colname \u001b[38;5;241m=\u001b[39m [\u001b[38;5;124m'\u001b[39m\u001b[38;5;124mANTELOPE\u001b[39m\u001b[38;5;124m'\u001b[39m, \u001b[38;5;124m'\u001b[39m\u001b[38;5;124mBADGER\u001b[39m\u001b[38;5;124m'\u001b[39m, \u001b[38;5;124m'\u001b[39m\u001b[38;5;124mBAT\u001b[39m\u001b[38;5;124m'\u001b[39m, \n\u001b[0;32m      2\u001b[0m                                 \u001b[38;5;124m'\u001b[39m\u001b[38;5;124mBEAR\u001b[39m\u001b[38;5;124m'\u001b[39m, \u001b[38;5;124m'\u001b[39m\u001b[38;5;124mBOBCAT\u001b[39m\u001b[38;5;124m'\u001b[39m, \u001b[38;5;124m'\u001b[39m\u001b[38;5;124mCAMEL\u001b[39m\u001b[38;5;124m'\u001b[39m,\n\u001b[0;32m      3\u001b[0m                                 \u001b[38;5;124m'\u001b[39m\u001b[38;5;124mCAT\u001b[39m\u001b[38;5;124m'\u001b[39m, \u001b[38;5;124m'\u001b[39m\u001b[38;5;124mCHEETAH\u001b[39m\u001b[38;5;124m'\u001b[39m, \u001b[38;5;124m'\u001b[39m\u001b[38;5;124mCHIMPANZEE\u001b[39m\u001b[38;5;124m'\u001b[39m,  \n\u001b[1;32m   (...)\u001b[0m\n\u001b[0;32m     17\u001b[0m                                 \u001b[38;5;124m'\u001b[39m\u001b[38;5;124mZEBRA\u001b[39m\u001b[38;5;124m'\u001b[39m\n\u001b[0;32m     18\u001b[0m                                ]\n\u001b[0;32m     19\u001b[0m set_prefix \u001b[38;5;241m=\u001b[39m \u001b[38;5;124m'\u001b[39m\u001b[38;5;124mSRC-\u001b[39m\u001b[38;5;124m'\u001b[39m\n\u001b[1;32m---> 20\u001b[0m column_mapping \u001b[38;5;241m=\u001b[39m {dummy_variables_1_old_colname: \u001b[43mset_prefix\u001b[49m\u001b[43m \u001b[49m\u001b[38;5;241;43m+\u001b[39;49m\u001b[43m \u001b[49m\u001b[43mdummy_variables_1_old_colname\u001b[49m \u001b[38;5;28;01mfor\u001b[39;00m colname \u001b[38;5;129;01min\u001b[39;00m dummy_variables_1_old_colname}\n",
      "\u001b[1;31mTypeError\u001b[0m: can only concatenate str (not \"list\") to str"
     ]
    }
   ],
   "source": [
    "dummy_variables_1_old_colname = ['ANTELOPE', 'BADGER', 'BAT', \n",
    "                                'BEAR', 'BOBCAT', 'CAMEL',\n",
    "                                'CAT', 'CHEETAH', 'CHIMPANZEE',  \n",
    "                                'COUGAR', 'DEER', 'DOG', \n",
    "                                'DOLPHIN', 'ELEPHANT', 'EMU', \n",
    "                                'GIRAFFE', 'GORILLA', 'HEDGEHOG'\n",
    "                                'HORSE', 'HUMAN', 'HYENA', \n",
    "                                'IBEX', 'JACKAL', 'KANGAROO',\n",
    "                                'KOALA', 'LEMUR', 'LION', \n",
    "                                'LYNX', 'MARMOSET', 'MEERKAT', \n",
    "                                'MONGOOSE', 'MONKEY', 'MOOSE', \n",
    "                                'OSTRICH', 'OTTER', 'RABBIT',\n",
    "                                'RACCOON', 'SEAL', 'SERVAL',\n",
    "                                'SHREW', 'SKUNK', 'SLOTH',\n",
    "                                'SQUIRREL', 'TAPIR', 'TIGER',\n",
    "                                'VOLE', 'WHALE', 'WOLF',\n",
    "                                'ZEBRA'\n",
    "                               ]\n",
    "set_prefix = 'SRC-'\n",
    "column_mapping = {dummy_variables_1_old_colname: set_prefix + dummy_variables_1_old_colname for colname in dummy_variables_1_old_colname}"
   ]
  },
  {
   "cell_type": "code",
   "execution_count": null,
   "id": "6387001d-6f4c-44b3-9991-1fc4be3a0cb0",
   "metadata": {},
   "outputs": [],
   "source": [
    "dummy_variable_1.rename(columns={'ANTELOPE':'SRC-ANTELOPE', \n",
    "                                 'BADGER':'SRC-BADGER', \n",
    "                                 'BAT':'SRC-BAT', \n",
    "                                 'BEAR':'SRC-BEAR', \n",
    "                                 'BOBCAT':'SRC-BOBCAT', \n",
    "                                 'CAMEL':'SRC-CAMEL', \n",
    "                                 'CAT':'SRC-CAT', \n",
    "                                 'CHEETAH':'SRC-CHEETAH', \n",
    "                                 'CHIMPANZEE':'SRC-CHIMPANZEE', \n",
    "                                 'COUGAR':'SRC-COUGAR', \n",
    "                                 'DEER':'SRC-DEER', \n",
    "                                 'DOG':'',\n",
    "                                 'DOLPHIN':'',\n",
    "                                 'ELEPHANT':'',\n",
    "                                 'EMU':'',\n",
    "                                 'GIRAFFE':'',\n",
    "                                 'GORILLA':'',\n",
    "                                 'HEDGEHOG':'',\n",
    "                                 'HORSE':'',\n",
    "                                 'HUMAN':'',\n",
    "                                 'HYENA':'',\n",
    "                                 'IBEX':'',\n",
    "                                 'JACKAL':'',\n",
    "                                 'KANGAROO':'',\n",
    "                                 'KOALA':'',\n",
    "                                 'LEMUR':'',\n",
    "                                 'LION':'',\n",
    "                                 'LYNX':'',\n",
    "                                 'MARMOSET':'',\n",
    "                                 'MEERKAT':'',\n",
    "                                 'MONGOOSE':'',\n",
    "                                 '':'',\n",
    "                                 '':'',\n",
    "                                 '':'',\n",
    "                                 '':'',\n",
    "                                 '':'',\n",
    "                                }, inplace=True)\n"
   ]
  }
 ],
 "metadata": {
  "kernelspec": {
   "display_name": "Python 3 (ipykernel)",
   "language": "python",
   "name": "python3"
  },
  "language_info": {
   "codemirror_mode": {
    "name": "ipython",
    "version": 3
   },
   "file_extension": ".py",
   "mimetype": "text/x-python",
   "name": "python",
   "nbconvert_exporter": "python",
   "pygments_lexer": "ipython3",
   "version": "3.10.0"
  }
 },
 "nbformat": 4,
 "nbformat_minor": 5
}
