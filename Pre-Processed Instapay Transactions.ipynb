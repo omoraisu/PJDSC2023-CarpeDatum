{
 "cells": [
  {
   "cell_type": "code",
   "execution_count": 11,
   "id": "945f5d9f-1e25-4057-a582-c5bfc86628e6",
   "metadata": {},
   "outputs": [],
   "source": [
    "import pandas as pd\n",
    "import numpy as np"
   ]
  },
  {
   "cell_type": "code",
   "execution_count": 12,
   "id": "4f2a1346-b6f8-4a20-bacc-e90900a02029",
   "metadata": {},
   "outputs": [],
   "source": [
    "df1 = pd.read_excel(\"C:/Users/daeni/Desktop/LOVE/PJDSC2023-CarpeDatum/PJDSC2023-CarpeDatum/Dataset/INCOMING INSTAPAY TXNS_PJDSC.xlsx\")"
   ]
  },
  {
   "cell_type": "code",
   "execution_count": 13,
   "id": "f1c632a6-8c5f-495e-8572-36f642a73fb0",
   "metadata": {},
   "outputs": [],
   "source": [
    "df1.to_csv('INCOMING INSTAPAY TXNS_PJDSC')"
   ]
  },
  {
   "cell_type": "code",
   "execution_count": 14,
   "id": "c8203221-3808-4e8b-bff1-01dfae648d7d",
   "metadata": {},
   "outputs": [
    {
     "data": {
      "text/html": [
       "<div>\n",
       "<style scoped>\n",
       "    .dataframe tbody tr th:only-of-type {\n",
       "        vertical-align: middle;\n",
       "    }\n",
       "\n",
       "    .dataframe tbody tr th {\n",
       "        vertical-align: top;\n",
       "    }\n",
       "\n",
       "    .dataframe thead th {\n",
       "        text-align: right;\n",
       "    }\n",
       "</style>\n",
       "<table border=\"1\" class=\"dataframe\">\n",
       "  <thead>\n",
       "    <tr style=\"text-align: right;\">\n",
       "      <th></th>\n",
       "      <th>CUST_NUM</th>\n",
       "      <th>DATE</th>\n",
       "      <th>TIME</th>\n",
       "      <th>AMOUNT</th>\n",
       "      <th>BPI_ACCT_TYPE</th>\n",
       "      <th>SRC_BANK_NAME</th>\n",
       "    </tr>\n",
       "  </thead>\n",
       "  <tbody>\n",
       "    <tr>\n",
       "      <th>0</th>\n",
       "      <td>5713.401964</td>\n",
       "      <td>2023-04-01</td>\n",
       "      <td>73591</td>\n",
       "      <td>12299.238264</td>\n",
       "      <td>SA</td>\n",
       "      <td>LEMUR</td>\n",
       "    </tr>\n",
       "    <tr>\n",
       "      <th>1</th>\n",
       "      <td>5713.401964</td>\n",
       "      <td>2023-04-05</td>\n",
       "      <td>44714</td>\n",
       "      <td>2499.424915</td>\n",
       "      <td>SA</td>\n",
       "      <td>HUMAN</td>\n",
       "    </tr>\n",
       "    <tr>\n",
       "      <th>2</th>\n",
       "      <td>5713.401964</td>\n",
       "      <td>2023-04-24</td>\n",
       "      <td>46302</td>\n",
       "      <td>748.744684</td>\n",
       "      <td>SA</td>\n",
       "      <td>HUMAN</td>\n",
       "    </tr>\n",
       "    <tr>\n",
       "      <th>3</th>\n",
       "      <td>5713.401964</td>\n",
       "      <td>2023-04-29</td>\n",
       "      <td>40612</td>\n",
       "      <td>1799.144167</td>\n",
       "      <td>SA</td>\n",
       "      <td>HUMAN</td>\n",
       "    </tr>\n",
       "    <tr>\n",
       "      <th>4</th>\n",
       "      <td>5713.401964</td>\n",
       "      <td>2023-04-29</td>\n",
       "      <td>24021</td>\n",
       "      <td>1499.628880</td>\n",
       "      <td>SA</td>\n",
       "      <td>HUMAN</td>\n",
       "    </tr>\n",
       "  </tbody>\n",
       "</table>\n",
       "</div>"
      ],
      "text/plain": [
       "      CUST_NUM       DATE   TIME        AMOUNT BPI_ACCT_TYPE SRC_BANK_NAME\n",
       "0  5713.401964 2023-04-01  73591  12299.238264            SA         LEMUR\n",
       "1  5713.401964 2023-04-05  44714   2499.424915            SA         HUMAN\n",
       "2  5713.401964 2023-04-24  46302    748.744684            SA         HUMAN\n",
       "3  5713.401964 2023-04-29  40612   1799.144167            SA         HUMAN\n",
       "4  5713.401964 2023-04-29  24021   1499.628880            SA         HUMAN"
      ]
     },
     "execution_count": 14,
     "metadata": {},
     "output_type": "execute_result"
    }
   ],
   "source": [
    "df1.head()"
   ]
  },
  {
   "cell_type": "code",
   "execution_count": 15,
   "id": "98e9cf57-fb52-49fe-8473-050e1cca6982",
   "metadata": {},
   "outputs": [
    {
     "data": {
      "text/html": [
       "<div>\n",
       "<style scoped>\n",
       "    .dataframe tbody tr th:only-of-type {\n",
       "        vertical-align: middle;\n",
       "    }\n",
       "\n",
       "    .dataframe tbody tr th {\n",
       "        vertical-align: top;\n",
       "    }\n",
       "\n",
       "    .dataframe thead th {\n",
       "        text-align: right;\n",
       "    }\n",
       "</style>\n",
       "<table border=\"1\" class=\"dataframe\">\n",
       "  <thead>\n",
       "    <tr style=\"text-align: right;\">\n",
       "      <th></th>\n",
       "      <th>CUST_NUM</th>\n",
       "      <th>DATE</th>\n",
       "      <th>TIME</th>\n",
       "      <th>AMOUNT</th>\n",
       "      <th>BPI_ACCT_TYPE</th>\n",
       "      <th>SRC_BANK_NAME</th>\n",
       "    </tr>\n",
       "  </thead>\n",
       "  <tbody>\n",
       "    <tr>\n",
       "      <th>80037</th>\n",
       "      <td>11432.368259</td>\n",
       "      <td>2023-06-30</td>\n",
       "      <td>76309</td>\n",
       "      <td>2998.982229</td>\n",
       "      <td>SA</td>\n",
       "      <td>HUMAN</td>\n",
       "    </tr>\n",
       "    <tr>\n",
       "      <th>80038</th>\n",
       "      <td>9868.617026</td>\n",
       "      <td>2023-06-30</td>\n",
       "      <td>38348</td>\n",
       "      <td>7499.457892</td>\n",
       "      <td>SA</td>\n",
       "      <td>HUMAN</td>\n",
       "    </tr>\n",
       "    <tr>\n",
       "      <th>80039</th>\n",
       "      <td>9868.617026</td>\n",
       "      <td>2023-06-30</td>\n",
       "      <td>38465</td>\n",
       "      <td>19.806571</td>\n",
       "      <td>SA</td>\n",
       "      <td>HUMAN</td>\n",
       "    </tr>\n",
       "    <tr>\n",
       "      <th>80040</th>\n",
       "      <td>13968.861156</td>\n",
       "      <td>2023-06-30</td>\n",
       "      <td>51968</td>\n",
       "      <td>999.240763</td>\n",
       "      <td>SA</td>\n",
       "      <td>HUMAN</td>\n",
       "    </tr>\n",
       "    <tr>\n",
       "      <th>80041</th>\n",
       "      <td>5523.664001</td>\n",
       "      <td>2023-06-30</td>\n",
       "      <td>65503</td>\n",
       "      <td>9999.146908</td>\n",
       "      <td>SA</td>\n",
       "      <td>DOG</td>\n",
       "    </tr>\n",
       "  </tbody>\n",
       "</table>\n",
       "</div>"
      ],
      "text/plain": [
       "           CUST_NUM       DATE   TIME       AMOUNT BPI_ACCT_TYPE SRC_BANK_NAME\n",
       "80037  11432.368259 2023-06-30  76309  2998.982229            SA         HUMAN\n",
       "80038   9868.617026 2023-06-30  38348  7499.457892            SA         HUMAN\n",
       "80039   9868.617026 2023-06-30  38465    19.806571            SA         HUMAN\n",
       "80040  13968.861156 2023-06-30  51968   999.240763            SA         HUMAN\n",
       "80041   5523.664001 2023-06-30  65503  9999.146908            SA           DOG"
      ]
     },
     "execution_count": 15,
     "metadata": {},
     "output_type": "execute_result"
    }
   ],
   "source": [
    "df1.tail()"
   ]
  },
  {
   "cell_type": "code",
   "execution_count": 16,
   "id": "7edf25ee-dce8-48cf-af36-1ea9237dd19f",
   "metadata": {},
   "outputs": [
    {
     "data": {
      "text/plain": [
       "(80042, 6)"
      ]
     },
     "execution_count": 16,
     "metadata": {},
     "output_type": "execute_result"
    }
   ],
   "source": [
    "df1.shape"
   ]
  },
  {
   "cell_type": "markdown",
   "id": "6333acf7-6402-42d9-9175-cdc400e88ca2",
   "metadata": {},
   "source": [
    "**Findings**: There are 80,042 rows and 6 columns in total for the Incoming Instapay Transactions. "
   ]
  },
  {
   "cell_type": "code",
   "execution_count": 17,
   "id": "2a8bcd24-b0b9-4e4b-a725-4a0e20d2715d",
   "metadata": {},
   "outputs": [
    {
     "data": {
      "text/html": [
       "<div>\n",
       "<style scoped>\n",
       "    .dataframe tbody tr th:only-of-type {\n",
       "        vertical-align: middle;\n",
       "    }\n",
       "\n",
       "    .dataframe tbody tr th {\n",
       "        vertical-align: top;\n",
       "    }\n",
       "\n",
       "    .dataframe thead th {\n",
       "        text-align: right;\n",
       "    }\n",
       "</style>\n",
       "<table border=\"1\" class=\"dataframe\">\n",
       "  <thead>\n",
       "    <tr style=\"text-align: right;\">\n",
       "      <th></th>\n",
       "      <th>CUST_NUM</th>\n",
       "      <th>DATE</th>\n",
       "      <th>TIME</th>\n",
       "      <th>AMOUNT</th>\n",
       "      <th>BPI_ACCT_TYPE</th>\n",
       "      <th>SRC_BANK_NAME</th>\n",
       "    </tr>\n",
       "  </thead>\n",
       "  <tbody>\n",
       "    <tr>\n",
       "      <th>0</th>\n",
       "      <td>False</td>\n",
       "      <td>False</td>\n",
       "      <td>False</td>\n",
       "      <td>False</td>\n",
       "      <td>False</td>\n",
       "      <td>False</td>\n",
       "    </tr>\n",
       "    <tr>\n",
       "      <th>1</th>\n",
       "      <td>False</td>\n",
       "      <td>False</td>\n",
       "      <td>False</td>\n",
       "      <td>False</td>\n",
       "      <td>False</td>\n",
       "      <td>False</td>\n",
       "    </tr>\n",
       "    <tr>\n",
       "      <th>2</th>\n",
       "      <td>False</td>\n",
       "      <td>False</td>\n",
       "      <td>False</td>\n",
       "      <td>False</td>\n",
       "      <td>False</td>\n",
       "      <td>False</td>\n",
       "    </tr>\n",
       "    <tr>\n",
       "      <th>3</th>\n",
       "      <td>False</td>\n",
       "      <td>False</td>\n",
       "      <td>False</td>\n",
       "      <td>False</td>\n",
       "      <td>False</td>\n",
       "      <td>False</td>\n",
       "    </tr>\n",
       "    <tr>\n",
       "      <th>4</th>\n",
       "      <td>False</td>\n",
       "      <td>False</td>\n",
       "      <td>False</td>\n",
       "      <td>False</td>\n",
       "      <td>False</td>\n",
       "      <td>False</td>\n",
       "    </tr>\n",
       "  </tbody>\n",
       "</table>\n",
       "</div>"
      ],
      "text/plain": [
       "   CUST_NUM   DATE   TIME  AMOUNT  BPI_ACCT_TYPE  SRC_BANK_NAME\n",
       "0     False  False  False   False          False          False\n",
       "1     False  False  False   False          False          False\n",
       "2     False  False  False   False          False          False\n",
       "3     False  False  False   False          False          False\n",
       "4     False  False  False   False          False          False"
      ]
     },
     "execution_count": 17,
     "metadata": {},
     "output_type": "execute_result"
    }
   ],
   "source": [
    "df1.isna().head()"
   ]
  },
  {
   "cell_type": "code",
   "execution_count": 18,
   "id": "4561fbe0-d959-42dd-8e72-486f8120a5af",
   "metadata": {},
   "outputs": [
    {
     "data": {
      "text/plain": [
       "CUST_NUM         0\n",
       "DATE             0\n",
       "TIME             0\n",
       "AMOUNT           0\n",
       "BPI_ACCT_TYPE    0\n",
       "SRC_BANK_NAME    0\n",
       "dtype: int64"
      ]
     },
     "execution_count": 18,
     "metadata": {},
     "output_type": "execute_result"
    }
   ],
   "source": [
    "df1.isna().sum()"
   ]
  },
  {
   "cell_type": "markdown",
   "id": "c9850ddd-70a4-4568-a053-40e08c6a2f5c",
   "metadata": {},
   "source": [
    "**Findings:** There are no missing values for this dataframe. "
   ]
  },
  {
   "cell_type": "code",
   "execution_count": null,
   "id": "714ca5b6-6288-4ad2-813a-561cfa545df2",
   "metadata": {},
   "outputs": [],
   "source": []
  }
 ],
 "metadata": {
  "kernelspec": {
   "display_name": "Python 3 (ipykernel)",
   "language": "python",
   "name": "python3"
  },
  "language_info": {
   "codemirror_mode": {
    "name": "ipython",
    "version": 3
   },
   "file_extension": ".py",
   "mimetype": "text/x-python",
   "name": "python",
   "nbconvert_exporter": "python",
   "pygments_lexer": "ipython3",
   "version": "3.10.0"
  }
 },
 "nbformat": 4,
 "nbformat_minor": 5
}
